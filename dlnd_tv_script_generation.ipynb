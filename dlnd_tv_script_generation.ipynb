{
 "cells": [
  {
   "cell_type": "markdown",
   "metadata": {
    "deletable": true,
    "editable": true
   },
   "source": [
    "# TV Script Generation\n",
    "In this project, you'll generate your own [Simpsons](https://en.wikipedia.org/wiki/The_Simpsons) TV scripts using RNNs.  You'll be using part of the [Simpsons dataset](https://www.kaggle.com/wcukierski/the-simpsons-by-the-data) of scripts from 27 seasons.  The Neural Network you'll build will generate a new TV script for a scene at [Moe's Tavern](https://simpsonswiki.com/wiki/Moe's_Tavern).\n",
    "## Get the Data\n",
    "The data is already provided for you.  You'll be using a subset of the original dataset.  It consists of only the scenes in Moe's Tavern.  This doesn't include other versions of the tavern, like \"Moe's Cavern\", \"Flaming Moe's\", \"Uncle Moe's Family Feed-Bag\", etc.."
   ]
  },
  {
   "cell_type": "code",
   "execution_count": 1,
   "metadata": {
    "collapsed": false,
    "deletable": true,
    "editable": true
   },
   "outputs": [],
   "source": [
    "\"\"\"\n",
    "DON'T MODIFY ANYTHING IN THIS CELL\n",
    "\"\"\"\n",
    "import helper\n",
    "\n",
    "data_dir = './data/simpsons/moes_tavern_lines.txt'\n",
    "text = helper.load_data(data_dir)\n",
    "# Ignore notice, since we don't use it for analysing the data\n",
    "text = text[81:]"
   ]
  },
  {
   "cell_type": "markdown",
   "metadata": {
    "deletable": true,
    "editable": true
   },
   "source": [
    "## Explore the Data\n",
    "Play around with `view_sentence_range` to view different parts of the data."
   ]
  },
  {
   "cell_type": "code",
   "execution_count": 2,
   "metadata": {
    "collapsed": false,
    "deletable": true,
    "editable": true
   },
   "outputs": [
    {
     "name": "stdout",
     "output_type": "stream",
     "text": [
      "Dataset Stats\n",
      "Roughly the number of unique words: 11492\n",
      "Number of scenes: 262\n",
      "Average number of sentences in each scene: 15.248091603053435\n",
      "Number of lines: 4257\n",
      "Average number of words in each line: 11.50434578341555\n",
      "\n",
      "The sentences 0 to 10:\n",
      "Moe_Szyslak: (INTO PHONE) Moe's Tavern. Where the elite meet to drink.\n",
      "Bart_Simpson: Eh, yeah, hello, is Mike there? Last name, Rotch.\n",
      "Moe_Szyslak: (INTO PHONE) Hold on, I'll check. (TO BARFLIES) Mike Rotch. Mike Rotch. Hey, has anybody seen Mike Rotch, lately?\n",
      "Moe_Szyslak: (INTO PHONE) Listen you little puke. One of these days I'm gonna catch you, and I'm gonna carve my name on your back with an ice pick.\n",
      "Moe_Szyslak: What's the matter Homer? You're not your normal effervescent self.\n",
      "Homer_Simpson: I got my problems, Moe. Give me another one.\n",
      "Moe_Szyslak: Homer, hey, you should not drink to forget your problems.\n",
      "Barney_Gumble: Yeah, you should only drink to enhance your social skills.\n",
      "\n",
      "\n"
     ]
    }
   ],
   "source": [
    "view_sentence_range = (0, 10)\n",
    "\n",
    "\"\"\"\n",
    "DON'T MODIFY ANYTHING IN THIS CELL\n",
    "\"\"\"\n",
    "import numpy as np\n",
    "\n",
    "print('Dataset Stats')\n",
    "print('Roughly the number of unique words: {}'.format(len({word: None for word in text.split()})))\n",
    "scenes = text.split('\\n\\n')\n",
    "print('Number of scenes: {}'.format(len(scenes)))\n",
    "sentence_count_scene = [scene.count('\\n') for scene in scenes]\n",
    "print('Average number of sentences in each scene: {}'.format(np.average(sentence_count_scene)))\n",
    "\n",
    "sentences = [sentence for scene in scenes for sentence in scene.split('\\n')]\n",
    "print('Number of lines: {}'.format(len(sentences)))\n",
    "word_count_sentence = [len(sentence.split()) for sentence in sentences]\n",
    "print('Average number of words in each line: {}'.format(np.average(word_count_sentence)))\n",
    "\n",
    "print()\n",
    "print('The sentences {} to {}:'.format(*view_sentence_range))\n",
    "print('\\n'.join(text.split('\\n')[view_sentence_range[0]:view_sentence_range[1]]))"
   ]
  },
  {
   "cell_type": "markdown",
   "metadata": {
    "deletable": true,
    "editable": true
   },
   "source": [
    "## Implement Preprocessing Functions\n",
    "The first thing to do to any dataset is preprocessing.  Implement the following preprocessing functions below:\n",
    "- Lookup Table\n",
    "- Tokenize Punctuation\n",
    "\n",
    "### Lookup Table\n",
    "To create a word embedding, you first need to transform the words to ids.  In this function, create two dictionaries:\n",
    "- Dictionary to go from the words to an id, we'll call `vocab_to_int`\n",
    "- Dictionary to go from the id to word, we'll call `int_to_vocab`\n",
    "\n",
    "Return these dictionaries in the following tuple `(vocab_to_int, int_to_vocab)`"
   ]
  },
  {
   "cell_type": "code",
   "execution_count": 3,
   "metadata": {
    "collapsed": false,
    "deletable": true,
    "editable": true
   },
   "outputs": [
    {
     "name": "stdout",
     "output_type": "stream",
     "text": [
      "Tests Passed\n"
     ]
    }
   ],
   "source": [
    "import numpy as np\n",
    "import problem_unittests as tests\n",
    "\n",
    "def create_lookup_tables(text):\n",
    "    \"\"\"\n",
    "    Create lookup tables for vocabulary\n",
    "    :param text: The text of tv scripts split into words\n",
    "    :return: A tuple of dicts (vocab_to_int, int_to_vocab)\n",
    "    \"\"\"\n",
    "    vocab = set(text)\n",
    "    vocab_to_int = {word: idx for idx, word in enumerate(vocab)}\n",
    "    int_to_vocab = {idx: word for idx, word in enumerate(vocab)}    \n",
    "    return vocab_to_int, int_to_vocab\n",
    "\n",
    "\n",
    "\"\"\"\n",
    "DON'T MODIFY ANYTHING IN THIS CELL THAT IS BELOW THIS LINE\n",
    "\"\"\"\n",
    "tests.test_create_lookup_tables(create_lookup_tables)"
   ]
  },
  {
   "cell_type": "markdown",
   "metadata": {
    "deletable": true,
    "editable": true
   },
   "source": [
    "### Tokenize Punctuation\n",
    "We'll be splitting the script into a word array using spaces as delimiters.  However, punctuations like periods and exclamation marks make it hard for the neural network to distinguish between the word \"bye\" and \"bye!\".\n",
    "\n",
    "Implement the function `token_lookup` to return a dict that will be used to tokenize symbols like \"!\" into \"||Exclamation_Mark||\".  Create a dictionary for the following symbols where the symbol is the key and value is the token:\n",
    "- Period ( . )\n",
    "- Comma ( , )\n",
    "- Quotation Mark ( \" )\n",
    "- Semicolon ( ; )\n",
    "- Exclamation mark ( ! )\n",
    "- Question mark ( ? )\n",
    "- Left Parentheses ( ( )\n",
    "- Right Parentheses ( ) )\n",
    "- Dash ( -- )\n",
    "- Return ( \\n )\n",
    "\n",
    "This dictionary will be used to token the symbols and add the delimiter (space) around it.  This separates the symbols as it's own word, making it easier for the neural network to predict on the next word. Make sure you don't use a token that could be confused as a word. Instead of using the token \"dash\", try using something like \"||dash||\"."
   ]
  },
  {
   "cell_type": "code",
   "execution_count": 4,
   "metadata": {
    "collapsed": false,
    "deletable": true,
    "editable": true
   },
   "outputs": [
    {
     "name": "stdout",
     "output_type": "stream",
     "text": [
      "Tests Passed\n"
     ]
    }
   ],
   "source": [
    "def token_lookup():\n",
    "    \"\"\"\n",
    "    Generate a dict to turn punctuation into a token.\n",
    "    :return: Tokenize dictionary where the key is the punctuation and the value is the token\n",
    "    \"\"\"\n",
    "    token_dict = {'.': '||period||',\n",
    "                  ',': '||comma||',\n",
    "                  '\"': '||quotation_mark||',\n",
    "                  ';': '||semicolon||',\n",
    "                  '!': '||exclamation_mark||',\n",
    "                  '?': '||question_mark||',\n",
    "                  '(': '||left_parentheses||',\n",
    "                  ')': '||right_parentheses||',\n",
    "                 '--': '||dash||',\n",
    "                 '\\n': '||return||'}\n",
    "    return token_dict\n",
    "\n",
    "\"\"\"\n",
    "DON'T MODIFY ANYTHING IN THIS CELL THAT IS BELOW THIS LINE\n",
    "\"\"\"\n",
    "tests.test_tokenize(token_lookup)"
   ]
  },
  {
   "cell_type": "markdown",
   "metadata": {
    "deletable": true,
    "editable": true
   },
   "source": [
    "## Preprocess all the data and save it\n",
    "Running the code cell below will preprocess all the data and save it to file."
   ]
  },
  {
   "cell_type": "code",
   "execution_count": 5,
   "metadata": {
    "collapsed": false,
    "deletable": true,
    "editable": true
   },
   "outputs": [],
   "source": [
    "\"\"\"\n",
    "DON'T MODIFY ANYTHING IN THIS CELL\n",
    "\"\"\"\n",
    "# Preprocess Training, Validation, and Testing Data\n",
    "helper.preprocess_and_save_data(data_dir, token_lookup, create_lookup_tables)"
   ]
  },
  {
   "cell_type": "markdown",
   "metadata": {
    "deletable": true,
    "editable": true
   },
   "source": [
    "# Check Point\n",
    "This is your first checkpoint. If you ever decide to come back to this notebook or have to restart the notebook, you can start from here. The preprocessed data has been saved to disk."
   ]
  },
  {
   "cell_type": "code",
   "execution_count": 6,
   "metadata": {
    "collapsed": false,
    "deletable": true,
    "editable": true
   },
   "outputs": [],
   "source": [
    "\"\"\"\n",
    "DON'T MODIFY ANYTHING IN THIS CELL\n",
    "\"\"\"\n",
    "import helper\n",
    "import numpy as np\n",
    "import problem_unittests as tests\n",
    "\n",
    "int_text, vocab_to_int, int_to_vocab, token_dict = helper.load_preprocess()"
   ]
  },
  {
   "cell_type": "markdown",
   "metadata": {
    "deletable": true,
    "editable": true
   },
   "source": [
    "## Build the Neural Network\n",
    "You'll build the components necessary to build a RNN by implementing the following functions below:\n",
    "- get_inputs\n",
    "- get_init_cell\n",
    "- get_embed\n",
    "- build_rnn\n",
    "- build_nn\n",
    "- get_batches\n",
    "\n",
    "### Check the Version of TensorFlow and Access to GPU"
   ]
  },
  {
   "cell_type": "code",
   "execution_count": 7,
   "metadata": {
    "collapsed": false,
    "deletable": true,
    "editable": true
   },
   "outputs": [
    {
     "name": "stdout",
     "output_type": "stream",
     "text": [
      "TensorFlow Version: 1.0.1\n",
      "Default GPU Device: /gpu:0\n"
     ]
    }
   ],
   "source": [
    "\"\"\"\n",
    "DON'T MODIFY ANYTHING IN THIS CELL\n",
    "\"\"\"\n",
    "from distutils.version import LooseVersion\n",
    "import warnings\n",
    "import tensorflow as tf\n",
    "\n",
    "# Check TensorFlow Version\n",
    "assert LooseVersion(tf.__version__) >= LooseVersion('1.0'), 'Please use TensorFlow version 1.0 or newer'\n",
    "print('TensorFlow Version: {}'.format(tf.__version__))\n",
    "\n",
    "# Check for a GPU\n",
    "if not tf.test.gpu_device_name():\n",
    "    warnings.warn('No GPU found. Please use a GPU to train your neural network.')\n",
    "else:\n",
    "    print('Default GPU Device: {}'.format(tf.test.gpu_device_name()))"
   ]
  },
  {
   "cell_type": "markdown",
   "metadata": {
    "deletable": true,
    "editable": true
   },
   "source": [
    "### Input\n",
    "Implement the `get_inputs()` function to create TF Placeholders for the Neural Network.  It should create the following placeholders:\n",
    "- Input text placeholder named \"input\" using the [TF Placeholder](https://www.tensorflow.org/api_docs/python/tf/placeholder) `name` parameter.\n",
    "- Targets placeholder\n",
    "- Learning Rate placeholder\n",
    "\n",
    "Return the placeholders in the following the tuple `(Input, Targets, LearingRate)`"
   ]
  },
  {
   "cell_type": "code",
   "execution_count": 8,
   "metadata": {
    "collapsed": false,
    "deletable": true,
    "editable": true
   },
   "outputs": [
    {
     "name": "stdout",
     "output_type": "stream",
     "text": [
      "Tests Passed\n"
     ]
    }
   ],
   "source": [
    "def get_inputs():\n",
    "    \"\"\"\n",
    "    Create TF Placeholders for input, targets, and learning rate.\n",
    "    :return: Tuple (input, targets, learning rate)\n",
    "    \"\"\"\n",
    "    input_text = tf.placeholder(tf.int32, [None, None], name='input')\n",
    "    targets = tf.placeholder(tf.int32, [None, None], name='target')\n",
    "    learning_rate = tf.placeholder(tf.float32)\n",
    "    return input_text, targets, learning_rate\n",
    "\n",
    "\n",
    "\"\"\"\n",
    "DON'T MODIFY ANYTHING IN THIS CELL THAT IS BELOW THIS LINE\n",
    "\"\"\"\n",
    "tests.test_get_inputs(get_inputs)"
   ]
  },
  {
   "cell_type": "markdown",
   "metadata": {
    "deletable": true,
    "editable": true
   },
   "source": [
    "### Build RNN Cell and Initialize\n",
    "Stack one or more [`BasicLSTMCells`](https://www.tensorflow.org/api_docs/python/tf/contrib/rnn/BasicLSTMCell) in a [`MultiRNNCell`](https://www.tensorflow.org/api_docs/python/tf/contrib/rnn/MultiRNNCell).\n",
    "- The Rnn size should be set using `rnn_size`\n",
    "- Initalize Cell State using the MultiRNNCell's [`zero_state()`](https://www.tensorflow.org/api_docs/python/tf/contrib/rnn/MultiRNNCell#zero_state) function\n",
    "    - Apply the name \"initial_state\" to the initial state using [`tf.identity()`](https://www.tensorflow.org/api_docs/python/tf/identity)\n",
    "\n",
    "Return the cell and initial state in the following tuple `(Cell, InitialState)`"
   ]
  },
  {
   "cell_type": "code",
   "execution_count": 9,
   "metadata": {
    "collapsed": false,
    "deletable": true,
    "editable": true
   },
   "outputs": [
    {
     "name": "stdout",
     "output_type": "stream",
     "text": [
      "Tests Passed\n"
     ]
    }
   ],
   "source": [
    "def get_init_cell(batch_size, rnn_size, num_layers=2, keep_prob=0.95):\n",
    "    \"\"\"\n",
    "    Create an RNN Cell and initialize it.\n",
    "    :param batch_size: Size of batches\n",
    "    :param rnn_size: Size of RNNs\n",
    "    :return: Tuple (cell, initialize state)\n",
    "    \"\"\"\n",
    "    lstm = tf.contrib.rnn.BasicLSTMCell\n",
    "    if keep_prob < 1.0:\n",
    "        drop = tf.contrib.rnn.DropoutWrapper\n",
    "        cell = tf.contrib.rnn.MultiRNNCell([drop(lstm(num_units=rnn_size), keep_prob) for i in range(num_layers)])\n",
    "    else:\n",
    "        cell = tf.contrib.rnn.MultiRNNCell([lstm(num_units=rnn_size) for i in range(num_layers)])\n",
    "    initial_state = tf.identity(cell.zero_state(batch_size, dtype=tf.float32), name='initial_state')\n",
    "    return cell, initial_state\n",
    "\n",
    "\n",
    "\"\"\"\n",
    "DON'T MODIFY ANYTHING IN THIS CELL THAT IS BELOW THIS LINE\n",
    "\"\"\"\n",
    "tests.test_get_init_cell(get_init_cell)"
   ]
  },
  {
   "cell_type": "markdown",
   "metadata": {
    "deletable": true,
    "editable": true
   },
   "source": [
    "### Word Embedding\n",
    "Apply embedding to `input_data` using TensorFlow.  Return the embedded sequence."
   ]
  },
  {
   "cell_type": "code",
   "execution_count": 10,
   "metadata": {
    "collapsed": false,
    "deletable": true,
    "editable": true
   },
   "outputs": [
    {
     "name": "stdout",
     "output_type": "stream",
     "text": [
      "Tests Passed\n"
     ]
    }
   ],
   "source": [
    "def get_embed(input_data, vocab_size, embed_dim):\n",
    "    \"\"\"\n",
    "    Create embedding for <input_data>.\n",
    "    :param input_data: TF placeholder for text input.\n",
    "    :param vocab_size: Number of words in vocabulary.\n",
    "    :param embed_dim: Number of embedding dimensions\n",
    "    :return: Embedded input.\n",
    "    \"\"\"\n",
    "    embedding = tf.Variable(tf.random_uniform((vocab_size, embed_dim), -1, 1))\n",
    "    embed = tf.nn.embedding_lookup(embedding, input_data)\n",
    "    return embed\n",
    "\n",
    "\n",
    "\"\"\"\n",
    "DON'T MODIFY ANYTHING IN THIS CELL THAT IS BELOW THIS LINE\n",
    "\"\"\"\n",
    "tests.test_get_embed(get_embed)"
   ]
  },
  {
   "cell_type": "markdown",
   "metadata": {
    "deletable": true,
    "editable": true
   },
   "source": [
    "### Build RNN\n",
    "You created a RNN Cell in the `get_init_cell()` function.  Time to use the cell to create a RNN.\n",
    "- Build the RNN using the [`tf.nn.dynamic_rnn()`](https://www.tensorflow.org/api_docs/python/tf/nn/dynamic_rnn)\n",
    " - Apply the name \"final_state\" to the final state using [`tf.identity()`](https://www.tensorflow.org/api_docs/python/tf/identity)\n",
    "\n",
    "Return the outputs and final_state state in the following tuple `(Outputs, FinalState)` "
   ]
  },
  {
   "cell_type": "code",
   "execution_count": 11,
   "metadata": {
    "collapsed": false,
    "deletable": true,
    "editable": true
   },
   "outputs": [
    {
     "name": "stdout",
     "output_type": "stream",
     "text": [
      "Tests Passed\n"
     ]
    }
   ],
   "source": [
    "def build_rnn(cell, inputs):\n",
    "    \"\"\"\n",
    "    Create a RNN using a RNN Cell\n",
    "    :param cell: RNN Cell\n",
    "    :param inputs: Input text data\n",
    "    :return: Tuple (Outputs, Final State)\n",
    "    \"\"\"\n",
    "    outputs, final_state = tf.nn.dynamic_rnn(cell, inputs, None, dtype=tf.float32)\n",
    "    final_state = tf.identity(final_state, name='final_state')\n",
    "    return outputs, final_state\n",
    "\n",
    "\n",
    "\"\"\"\n",
    "DON'T MODIFY ANYTHING IN THIS CELL THAT IS BELOW THIS LINE\n",
    "\"\"\"\n",
    "tests.test_build_rnn(build_rnn)"
   ]
  },
  {
   "cell_type": "markdown",
   "metadata": {
    "deletable": true,
    "editable": true
   },
   "source": [
    "### Build the Neural Network\n",
    "Apply the functions you implemented above to:\n",
    "- Apply embedding to `input_data` using your `get_embed(input_data, vocab_size, embed_dim)` function.\n",
    "- Build RNN using `cell` and your `build_rnn(cell, inputs)` function.\n",
    "- Apply a fully connected layer with a linear activation and `vocab_size` as the number of outputs.\n",
    "\n",
    "Return the logits and final state in the following tuple (Logits, FinalState) "
   ]
  },
  {
   "cell_type": "code",
   "execution_count": 12,
   "metadata": {
    "collapsed": false,
    "deletable": true,
    "editable": true
   },
   "outputs": [
    {
     "name": "stdout",
     "output_type": "stream",
     "text": [
      "Tests Passed\n"
     ]
    }
   ],
   "source": [
    "def build_nn(cell, rnn_size, input_data, vocab_size):\n",
    "    \"\"\"\n",
    "    Build part of the neural network\n",
    "    :param cell: RNN cell\n",
    "    :param rnn_size: Size of rnns\n",
    "    :param input_data: Input data\n",
    "    :param vocab_size: Vocabulary size\n",
    "    :return: Tuple (Logits, FinalState)\n",
    "    \"\"\"\n",
    "    embed = get_embed(input_data, vocab_size, embed_dim=100)\n",
    "    outputs, final_state = build_rnn(cell, embed)\n",
    "    logits = tf.contrib.layers.fully_connected(outputs, vocab_size, None)        \n",
    "    return logits, final_state\n",
    "\n",
    "\n",
    "\"\"\"\n",
    "DON'T MODIFY ANYTHING IN THIS CELL THAT IS BELOW THIS LINE\n",
    "\"\"\"\n",
    "tests.test_build_nn(build_nn)"
   ]
  },
  {
   "cell_type": "markdown",
   "metadata": {
    "deletable": true,
    "editable": true
   },
   "source": [
    "### Batches\n",
    "Implement `get_batches` to create batches of input and targets using `int_text`.  The batches should be a Numpy array with the shape `(number of batches, 2, batch size, sequence length)`. Each batch contains two elements:\n",
    "- The first element is a single batch of **input** with the shape `[batch size, sequence length]`\n",
    "- The second element is a single batch of **targets** with the shape `[batch size, sequence length]`\n",
    "\n",
    "If you can't fill the last batch with enough data, drop the last batch.\n",
    "\n",
    "For exmple, `get_batches([1, 2, 3, 4, 5, 6, 7, 8, 9, 10, 11, 12, 13, 14, 15], 2, 3)` would return a Numpy array of the following:\n",
    "```\n",
    "[\n",
    "  # First Batch\n",
    "  [\n",
    "    # Batch of Input\n",
    "    [[ 1  2  3], [ 7  8  9]],\n",
    "    # Batch of targets\n",
    "    [[ 2  3  4], [ 8  9 10]]\n",
    "  ],\n",
    " \n",
    "  # Second Batch\n",
    "  [\n",
    "    # Batch of Input\n",
    "    [[ 4  5  6], [10 11 12]],\n",
    "    # Batch of targets\n",
    "    [[ 5  6  7], [11 12 13]]\n",
    "  ]\n",
    "]\n",
    "```"
   ]
  },
  {
   "cell_type": "code",
   "execution_count": 13,
   "metadata": {
    "collapsed": false,
    "deletable": true,
    "editable": true
   },
   "outputs": [
    {
     "name": "stdout",
     "output_type": "stream",
     "text": [
      "Tests Passed\n"
     ]
    }
   ],
   "source": [
    "def get_batches(int_text, batch_size, seq_length):\n",
    "    \"\"\"\n",
    "    Return batches of input and target\n",
    "    :param int_text: Text with the words replaced by their ids\n",
    "    :param batch_size: The size of batch\n",
    "    :param seq_length: The length of sequence\n",
    "    :return: Batches as a Numpy array\n",
    "    \"\"\"\n",
    "    x = np.array(int_text)\n",
    "    num_batches = (x.size - 1) // (batch_size * seq_length)\n",
    "    num_inputs = num_batches * batch_size * seq_length\n",
    "    batches = np.zeros((num_batches, 2, batch_size, seq_length))\n",
    "    batches[:, 0, ...] = np.reshape(x[:num_inputs], [num_batches, batch_size, seq_length])\n",
    "    batches[:, 1, ...] = np.reshape(x[1:num_inputs + 1], [num_batches, batch_size, seq_length])\n",
    "    return batches\n",
    "\n",
    "\n",
    "\"\"\"\n",
    "DON'T MODIFY ANYTHING IN THIS CELL THAT IS BELOW THIS LINE\n",
    "\"\"\"\n",
    "tests.test_get_batches(get_batches)"
   ]
  },
  {
   "cell_type": "markdown",
   "metadata": {
    "deletable": true,
    "editable": true
   },
   "source": [
    "## Neural Network Training\n",
    "### Hyperparameters\n",
    "Tune the following parameters:\n",
    "\n",
    "- Set `num_epochs` to the number of epochs.\n",
    "- Set `batch_size` to the batch size.\n",
    "- Set `rnn_size` to the size of the RNNs.\n",
    "- Set `seq_length` to the length of sequence.\n",
    "- Set `learning_rate` to the learning rate.\n",
    "- Set `show_every_n_batches` to the number of batches the neural network should print progress."
   ]
  },
  {
   "cell_type": "code",
   "execution_count": 14,
   "metadata": {
    "collapsed": true,
    "deletable": true,
    "editable": true
   },
   "outputs": [],
   "source": [
    "# Number of Epochs\n",
    "num_epochs = 128\n",
    "# Batch Size\n",
    "batch_size = 64\n",
    "# RNN Size\n",
    "rnn_size = 256\n",
    "# Sequence Length\n",
    "seq_length = 16\n",
    "# Learning Rate\n",
    "learning_rate = 0.002\n",
    "# Show stats for every n number of batches\n",
    "show_every_n_batches = 20\n",
    "\n",
    "\"\"\"\n",
    "DON'T MODIFY ANYTHING IN THIS CELL THAT IS BELOW THIS LINE\n",
    "\"\"\"\n",
    "save_dir = './save'"
   ]
  },
  {
   "cell_type": "markdown",
   "metadata": {
    "deletable": true,
    "editable": true
   },
   "source": [
    "### Build the Graph\n",
    "Build the graph using the neural network you implemented."
   ]
  },
  {
   "cell_type": "code",
   "execution_count": 15,
   "metadata": {
    "collapsed": false,
    "deletable": true,
    "editable": true
   },
   "outputs": [],
   "source": [
    "\"\"\"\n",
    "DON'T MODIFY ANYTHING IN THIS CELL\n",
    "\"\"\"\n",
    "from tensorflow.contrib import seq2seq\n",
    "\n",
    "train_graph = tf.Graph()\n",
    "with train_graph.as_default():\n",
    "    vocab_size = len(int_to_vocab)\n",
    "    input_text, targets, lr = get_inputs()\n",
    "    input_data_shape = tf.shape(input_text)\n",
    "    cell, initial_state = get_init_cell(input_data_shape[0], rnn_size)\n",
    "    logits, final_state = build_nn(cell, rnn_size, input_text, vocab_size)\n",
    "\n",
    "    # Probabilities for generating words\n",
    "    probs = tf.nn.softmax(logits, name='probs')\n",
    "\n",
    "    # Loss function\n",
    "    cost = seq2seq.sequence_loss(\n",
    "        logits,\n",
    "        targets,\n",
    "        tf.ones([input_data_shape[0], input_data_shape[1]]))\n",
    "\n",
    "    # Optimizer\n",
    "    optimizer = tf.train.AdamOptimizer(lr)\n",
    "\n",
    "    # Gradient Clipping\n",
    "    gradients = optimizer.compute_gradients(cost)\n",
    "    capped_gradients = [(tf.clip_by_value(grad, -1., 1.), var) for grad, var in gradients]\n",
    "    train_op = optimizer.apply_gradients(capped_gradients)"
   ]
  },
  {
   "cell_type": "markdown",
   "metadata": {
    "deletable": true,
    "editable": true
   },
   "source": [
    "## Train\n",
    "Train the neural network on the preprocessed data.  If you have a hard time getting a good loss, check the [forms](https://discussions.udacity.com/) to see if anyone is having the same problem."
   ]
  },
  {
   "cell_type": "code",
   "execution_count": 16,
   "metadata": {
    "collapsed": false,
    "deletable": true,
    "editable": true,
    "scrolled": false
   },
   "outputs": [
    {
     "name": "stdout",
     "output_type": "stream",
     "text": [
      "Epoch   0 Batch    0/67   train_loss = 8.821\n",
      "Epoch   0 Batch   20/67   train_loss = 6.999\n",
      "Epoch   0 Batch   40/67   train_loss = 6.455\n",
      "Epoch   0 Batch   60/67   train_loss = 6.539\n",
      "Epoch   1 Batch   13/67   train_loss = 6.258\n",
      "Epoch   1 Batch   33/67   train_loss = 6.228\n",
      "Epoch   1 Batch   53/67   train_loss = 6.428\n",
      "Epoch   2 Batch    6/67   train_loss = 6.038\n",
      "Epoch   2 Batch   26/67   train_loss = 6.131\n",
      "Epoch   2 Batch   46/67   train_loss = 6.153\n",
      "Epoch   2 Batch   66/67   train_loss = 5.743\n",
      "Epoch   3 Batch   19/67   train_loss = 5.998\n",
      "Epoch   3 Batch   39/67   train_loss = 5.965\n",
      "Epoch   3 Batch   59/67   train_loss = 5.980\n",
      "Epoch   4 Batch   12/67   train_loss = 5.840\n",
      "Epoch   4 Batch   32/67   train_loss = 5.908\n",
      "Epoch   4 Batch   52/67   train_loss = 6.142\n",
      "Epoch   5 Batch    5/67   train_loss = 5.662\n",
      "Epoch   5 Batch   25/67   train_loss = 5.621\n",
      "Epoch   5 Batch   45/67   train_loss = 5.796\n",
      "Epoch   5 Batch   65/67   train_loss = 5.726\n",
      "Epoch   6 Batch   18/67   train_loss = 5.661\n",
      "Epoch   6 Batch   38/67   train_loss = 5.863\n",
      "Epoch   6 Batch   58/67   train_loss = 5.604\n",
      "Epoch   7 Batch   11/67   train_loss = 5.585\n",
      "Epoch   7 Batch   31/67   train_loss = 5.249\n",
      "Epoch   7 Batch   51/67   train_loss = 5.561\n",
      "Epoch   8 Batch    4/67   train_loss = 5.311\n",
      "Epoch   8 Batch   24/67   train_loss = 5.112\n",
      "Epoch   8 Batch   44/67   train_loss = 5.235\n",
      "Epoch   8 Batch   64/67   train_loss = 5.202\n",
      "Epoch   9 Batch   17/67   train_loss = 4.887\n",
      "Epoch   9 Batch   37/67   train_loss = 4.994\n",
      "Epoch   9 Batch   57/67   train_loss = 4.980\n",
      "Epoch  10 Batch   10/67   train_loss = 4.985\n",
      "Epoch  10 Batch   30/67   train_loss = 4.908\n",
      "Epoch  10 Batch   50/67   train_loss = 5.066\n",
      "Epoch  11 Batch    3/67   train_loss = 5.136\n",
      "Epoch  11 Batch   23/67   train_loss = 4.677\n",
      "Epoch  11 Batch   43/67   train_loss = 5.000\n",
      "Epoch  11 Batch   63/67   train_loss = 4.898\n",
      "Epoch  12 Batch   16/67   train_loss = 5.079\n",
      "Epoch  12 Batch   36/67   train_loss = 4.959\n",
      "Epoch  12 Batch   56/67   train_loss = 5.048\n",
      "Epoch  13 Batch    9/67   train_loss = 4.703\n",
      "Epoch  13 Batch   29/67   train_loss = 4.616\n",
      "Epoch  13 Batch   49/67   train_loss = 4.893\n",
      "Epoch  14 Batch    2/67   train_loss = 4.589\n",
      "Epoch  14 Batch   22/67   train_loss = 4.569\n",
      "Epoch  14 Batch   42/67   train_loss = 4.553\n",
      "Epoch  14 Batch   62/67   train_loss = 4.570\n",
      "Epoch  15 Batch   15/67   train_loss = 4.489\n",
      "Epoch  15 Batch   35/67   train_loss = 4.487\n",
      "Epoch  15 Batch   55/67   train_loss = 4.662\n",
      "Epoch  16 Batch    8/67   train_loss = 4.503\n",
      "Epoch  16 Batch   28/67   train_loss = 4.470\n",
      "Epoch  16 Batch   48/67   train_loss = 4.511\n",
      "Epoch  17 Batch    1/67   train_loss = 4.398\n",
      "Epoch  17 Batch   21/67   train_loss = 4.277\n",
      "Epoch  17 Batch   41/67   train_loss = 4.524\n",
      "Epoch  17 Batch   61/67   train_loss = 4.453\n",
      "Epoch  18 Batch   14/67   train_loss = 4.353\n",
      "Epoch  18 Batch   34/67   train_loss = 4.489\n",
      "Epoch  18 Batch   54/67   train_loss = 4.118\n",
      "Epoch  19 Batch    7/67   train_loss = 4.184\n",
      "Epoch  19 Batch   27/67   train_loss = 3.985\n",
      "Epoch  19 Batch   47/67   train_loss = 4.224\n",
      "Epoch  20 Batch    0/67   train_loss = 4.065\n",
      "Epoch  20 Batch   20/67   train_loss = 4.230\n",
      "Epoch  20 Batch   40/67   train_loss = 4.110\n",
      "Epoch  20 Batch   60/67   train_loss = 4.177\n",
      "Epoch  21 Batch   13/67   train_loss = 4.184\n",
      "Epoch  21 Batch   33/67   train_loss = 4.159\n",
      "Epoch  21 Batch   53/67   train_loss = 4.203\n",
      "Epoch  22 Batch    6/67   train_loss = 3.919\n",
      "Epoch  22 Batch   26/67   train_loss = 3.984\n",
      "Epoch  22 Batch   46/67   train_loss = 4.138\n",
      "Epoch  22 Batch   66/67   train_loss = 3.848\n",
      "Epoch  23 Batch   19/67   train_loss = 3.937\n",
      "Epoch  23 Batch   39/67   train_loss = 3.906\n",
      "Epoch  23 Batch   59/67   train_loss = 4.012\n",
      "Epoch  24 Batch   12/67   train_loss = 3.812\n",
      "Epoch  24 Batch   32/67   train_loss = 3.896\n",
      "Epoch  24 Batch   52/67   train_loss = 4.019\n",
      "Epoch  25 Batch    5/67   train_loss = 3.781\n",
      "Epoch  25 Batch   25/67   train_loss = 3.563\n",
      "Epoch  25 Batch   45/67   train_loss = 3.858\n",
      "Epoch  25 Batch   65/67   train_loss = 3.726\n",
      "Epoch  26 Batch   18/67   train_loss = 3.704\n",
      "Epoch  26 Batch   38/67   train_loss = 3.794\n",
      "Epoch  26 Batch   58/67   train_loss = 3.806\n",
      "Epoch  27 Batch   11/67   train_loss = 3.682\n",
      "Epoch  27 Batch   31/67   train_loss = 3.540\n",
      "Epoch  27 Batch   51/67   train_loss = 3.745\n",
      "Epoch  28 Batch    4/67   train_loss = 3.639\n",
      "Epoch  28 Batch   24/67   train_loss = 3.549\n",
      "Epoch  28 Batch   44/67   train_loss = 3.649\n",
      "Epoch  28 Batch   64/67   train_loss = 3.637\n",
      "Epoch  29 Batch   17/67   train_loss = 3.441\n",
      "Epoch  29 Batch   37/67   train_loss = 3.439\n",
      "Epoch  29 Batch   57/67   train_loss = 3.553\n",
      "Epoch  30 Batch   10/67   train_loss = 3.555\n",
      "Epoch  30 Batch   30/67   train_loss = 3.526\n",
      "Epoch  30 Batch   50/67   train_loss = 3.535\n",
      "Epoch  31 Batch    3/67   train_loss = 3.465\n",
      "Epoch  31 Batch   23/67   train_loss = 3.383\n",
      "Epoch  31 Batch   43/67   train_loss = 3.419\n",
      "Epoch  31 Batch   63/67   train_loss = 3.442\n",
      "Epoch  32 Batch   16/67   train_loss = 3.518\n",
      "Epoch  32 Batch   36/67   train_loss = 3.457\n",
      "Epoch  32 Batch   56/67   train_loss = 3.477\n",
      "Epoch  33 Batch    9/67   train_loss = 3.288\n",
      "Epoch  33 Batch   29/67   train_loss = 3.333\n",
      "Epoch  33 Batch   49/67   train_loss = 3.297\n",
      "Epoch  34 Batch    2/67   train_loss = 3.288\n",
      "Epoch  34 Batch   22/67   train_loss = 3.256\n",
      "Epoch  34 Batch   42/67   train_loss = 3.251\n",
      "Epoch  34 Batch   62/67   train_loss = 3.144\n",
      "Epoch  35 Batch   15/67   train_loss = 3.251\n",
      "Epoch  35 Batch   35/67   train_loss = 3.255\n",
      "Epoch  35 Batch   55/67   train_loss = 3.224\n",
      "Epoch  36 Batch    8/67   train_loss = 3.143\n",
      "Epoch  36 Batch   28/67   train_loss = 3.169\n",
      "Epoch  36 Batch   48/67   train_loss = 3.070\n",
      "Epoch  37 Batch    1/67   train_loss = 3.008\n",
      "Epoch  37 Batch   21/67   train_loss = 3.045\n",
      "Epoch  37 Batch   41/67   train_loss = 3.063\n",
      "Epoch  37 Batch   61/67   train_loss = 2.953\n",
      "Epoch  38 Batch   14/67   train_loss = 2.982\n",
      "Epoch  38 Batch   34/67   train_loss = 3.113\n",
      "Epoch  38 Batch   54/67   train_loss = 2.866\n",
      "Epoch  39 Batch    7/67   train_loss = 2.904\n",
      "Epoch  39 Batch   27/67   train_loss = 2.877\n",
      "Epoch  39 Batch   47/67   train_loss = 2.952\n",
      "Epoch  40 Batch    0/67   train_loss = 2.912\n",
      "Epoch  40 Batch   20/67   train_loss = 2.826\n",
      "Epoch  40 Batch   40/67   train_loss = 2.895\n",
      "Epoch  40 Batch   60/67   train_loss = 2.761\n",
      "Epoch  41 Batch   13/67   train_loss = 2.784\n",
      "Epoch  41 Batch   33/67   train_loss = 2.884\n",
      "Epoch  41 Batch   53/67   train_loss = 2.681\n",
      "Epoch  42 Batch    6/67   train_loss = 2.682\n",
      "Epoch  42 Batch   26/67   train_loss = 2.727\n",
      "Epoch  42 Batch   46/67   train_loss = 2.805\n",
      "Epoch  42 Batch   66/67   train_loss = 2.661\n",
      "Epoch  43 Batch   19/67   train_loss = 2.634\n",
      "Epoch  43 Batch   39/67   train_loss = 2.623\n",
      "Epoch  43 Batch   59/67   train_loss = 2.646\n",
      "Epoch  44 Batch   12/67   train_loss = 2.504\n",
      "Epoch  44 Batch   32/67   train_loss = 2.563\n",
      "Epoch  44 Batch   52/67   train_loss = 2.529\n",
      "Epoch  45 Batch    5/67   train_loss = 2.542\n",
      "Epoch  45 Batch   25/67   train_loss = 2.457\n",
      "Epoch  45 Batch   45/67   train_loss = 2.604\n",
      "Epoch  45 Batch   65/67   train_loss = 2.462\n",
      "Epoch  46 Batch   18/67   train_loss = 2.413\n",
      "Epoch  46 Batch   38/67   train_loss = 2.524\n",
      "Epoch  46 Batch   58/67   train_loss = 2.584\n",
      "Epoch  47 Batch   11/67   train_loss = 2.323\n",
      "Epoch  47 Batch   31/67   train_loss = 2.473\n",
      "Epoch  47 Batch   51/67   train_loss = 2.505\n",
      "Epoch  48 Batch    4/67   train_loss = 2.278\n",
      "Epoch  48 Batch   24/67   train_loss = 2.358\n",
      "Epoch  48 Batch   44/67   train_loss = 2.378\n",
      "Epoch  48 Batch   64/67   train_loss = 2.403\n",
      "Epoch  49 Batch   17/67   train_loss = 2.329\n",
      "Epoch  49 Batch   37/67   train_loss = 2.259\n",
      "Epoch  49 Batch   57/67   train_loss = 2.349\n",
      "Epoch  50 Batch   10/67   train_loss = 2.304\n",
      "Epoch  50 Batch   30/67   train_loss = 2.325\n",
      "Epoch  50 Batch   50/67   train_loss = 2.297\n",
      "Epoch  51 Batch    3/67   train_loss = 2.164\n",
      "Epoch  51 Batch   23/67   train_loss = 2.294\n",
      "Epoch  51 Batch   43/67   train_loss = 2.121\n",
      "Epoch  51 Batch   63/67   train_loss = 2.207\n",
      "Epoch  52 Batch   16/67   train_loss = 2.146\n",
      "Epoch  52 Batch   36/67   train_loss = 2.133\n",
      "Epoch  52 Batch   56/67   train_loss = 2.108\n",
      "Epoch  53 Batch    9/67   train_loss = 2.163\n",
      "Epoch  53 Batch   29/67   train_loss = 2.120\n",
      "Epoch  53 Batch   49/67   train_loss = 1.968\n",
      "Epoch  54 Batch    2/67   train_loss = 2.204\n",
      "Epoch  54 Batch   22/67   train_loss = 1.936\n",
      "Epoch  54 Batch   42/67   train_loss = 2.139\n",
      "Epoch  54 Batch   62/67   train_loss = 2.025\n",
      "Epoch  55 Batch   15/67   train_loss = 2.079\n",
      "Epoch  55 Batch   35/67   train_loss = 2.103\n",
      "Epoch  55 Batch   55/67   train_loss = 2.005\n",
      "Epoch  56 Batch    8/67   train_loss = 2.042\n",
      "Epoch  56 Batch   28/67   train_loss = 1.948\n",
      "Epoch  56 Batch   48/67   train_loss = 1.982\n",
      "Epoch  57 Batch    1/67   train_loss = 1.961\n",
      "Epoch  57 Batch   21/67   train_loss = 1.933\n",
      "Epoch  57 Batch   41/67   train_loss = 1.895\n",
      "Epoch  57 Batch   61/67   train_loss = 1.857\n",
      "Epoch  58 Batch   14/67   train_loss = 1.870\n",
      "Epoch  58 Batch   34/67   train_loss = 1.911\n",
      "Epoch  58 Batch   54/67   train_loss = 1.929\n",
      "Epoch  59 Batch    7/67   train_loss = 1.976\n",
      "Epoch  59 Batch   27/67   train_loss = 1.923\n",
      "Epoch  59 Batch   47/67   train_loss = 1.928\n",
      "Epoch  60 Batch    0/67   train_loss = 1.926\n",
      "Epoch  60 Batch   20/67   train_loss = 1.752\n",
      "Epoch  60 Batch   40/67   train_loss = 1.869\n",
      "Epoch  60 Batch   60/67   train_loss = 1.802\n",
      "Epoch  61 Batch   13/67   train_loss = 1.722\n",
      "Epoch  61 Batch   33/67   train_loss = 1.774\n",
      "Epoch  61 Batch   53/67   train_loss = 1.651\n",
      "Epoch  62 Batch    6/67   train_loss = 1.766\n",
      "Epoch  62 Batch   26/67   train_loss = 1.701\n",
      "Epoch  62 Batch   46/67   train_loss = 1.861\n",
      "Epoch  62 Batch   66/67   train_loss = 1.873\n",
      "Epoch  63 Batch   19/67   train_loss = 1.704\n",
      "Epoch  63 Batch   39/67   train_loss = 1.625\n",
      "Epoch  63 Batch   59/67   train_loss = 1.777\n",
      "Epoch  64 Batch   12/67   train_loss = 1.654\n",
      "Epoch  64 Batch   32/67   train_loss = 1.615\n",
      "Epoch  64 Batch   52/67   train_loss = 1.609\n",
      "Epoch  65 Batch    5/67   train_loss = 1.787\n",
      "Epoch  65 Batch   25/67   train_loss = 1.622\n",
      "Epoch  65 Batch   45/67   train_loss = 1.728\n",
      "Epoch  65 Batch   65/67   train_loss = 1.664\n",
      "Epoch  66 Batch   18/67   train_loss = 1.605\n",
      "Epoch  66 Batch   38/67   train_loss = 1.521\n",
      "Epoch  66 Batch   58/67   train_loss = 1.723\n",
      "Epoch  67 Batch   11/67   train_loss = 1.496\n",
      "Epoch  67 Batch   31/67   train_loss = 1.654\n",
      "Epoch  67 Batch   51/67   train_loss = 1.599\n",
      "Epoch  68 Batch    4/67   train_loss = 1.483\n",
      "Epoch  68 Batch   24/67   train_loss = 1.607\n",
      "Epoch  68 Batch   44/67   train_loss = 1.519\n",
      "Epoch  68 Batch   64/67   train_loss = 1.614\n",
      "Epoch  69 Batch   17/67   train_loss = 1.561\n",
      "Epoch  69 Batch   37/67   train_loss = 1.445\n",
      "Epoch  69 Batch   57/67   train_loss = 1.535\n",
      "Epoch  70 Batch   10/67   train_loss = 1.471\n",
      "Epoch  70 Batch   30/67   train_loss = 1.452\n",
      "Epoch  70 Batch   50/67   train_loss = 1.473\n",
      "Epoch  71 Batch    3/67   train_loss = 1.266\n",
      "Epoch  71 Batch   23/67   train_loss = 1.540\n",
      "Epoch  71 Batch   43/67   train_loss = 1.276\n",
      "Epoch  71 Batch   63/67   train_loss = 1.414\n",
      "Epoch  72 Batch   16/67   train_loss = 1.344\n",
      "Epoch  72 Batch   36/67   train_loss = 1.208\n",
      "Epoch  72 Batch   56/67   train_loss = 1.300\n",
      "Epoch  73 Batch    9/67   train_loss = 1.354\n",
      "Epoch  73 Batch   29/67   train_loss = 1.385\n",
      "Epoch  73 Batch   49/67   train_loss = 1.187\n",
      "Epoch  74 Batch    2/67   train_loss = 1.461\n",
      "Epoch  74 Batch   22/67   train_loss = 1.245\n",
      "Epoch  74 Batch   42/67   train_loss = 1.269\n",
      "Epoch  74 Batch   62/67   train_loss = 1.305\n",
      "Epoch  75 Batch   15/67   train_loss = 1.394\n",
      "Epoch  75 Batch   35/67   train_loss = 1.302\n",
      "Epoch  75 Batch   55/67   train_loss = 1.266\n",
      "Epoch  76 Batch    8/67   train_loss = 1.251\n",
      "Epoch  76 Batch   28/67   train_loss = 1.242\n",
      "Epoch  76 Batch   48/67   train_loss = 1.145\n",
      "Epoch  77 Batch    1/67   train_loss = 1.335\n",
      "Epoch  77 Batch   21/67   train_loss = 1.256\n",
      "Epoch  77 Batch   41/67   train_loss = 1.095\n",
      "Epoch  77 Batch   61/67   train_loss = 1.211\n",
      "Epoch  78 Batch   14/67   train_loss = 1.178\n",
      "Epoch  78 Batch   34/67   train_loss = 1.189\n",
      "Epoch  78 Batch   54/67   train_loss = 1.235\n",
      "Epoch  79 Batch    7/67   train_loss = 1.338\n",
      "Epoch  79 Batch   27/67   train_loss = 1.273\n",
      "Epoch  79 Batch   47/67   train_loss = 1.142\n",
      "Epoch  80 Batch    0/67   train_loss = 1.277\n",
      "Epoch  80 Batch   20/67   train_loss = 1.034\n",
      "Epoch  80 Batch   40/67   train_loss = 1.112\n",
      "Epoch  80 Batch   60/67   train_loss = 1.130\n",
      "Epoch  81 Batch   13/67   train_loss = 1.135\n",
      "Epoch  81 Batch   33/67   train_loss = 1.077\n",
      "Epoch  81 Batch   53/67   train_loss = 0.949\n",
      "Epoch  82 Batch    6/67   train_loss = 1.170\n",
      "Epoch  82 Batch   26/67   train_loss = 1.114\n",
      "Epoch  82 Batch   46/67   train_loss = 1.129\n",
      "Epoch  82 Batch   66/67   train_loss = 1.189\n",
      "Epoch  83 Batch   19/67   train_loss = 1.103\n",
      "Epoch  83 Batch   39/67   train_loss = 1.013\n",
      "Epoch  83 Batch   59/67   train_loss = 1.080\n",
      "Epoch  84 Batch   12/67   train_loss = 1.065\n",
      "Epoch  84 Batch   32/67   train_loss = 1.019\n",
      "Epoch  84 Batch   52/67   train_loss = 0.992\n",
      "Epoch  85 Batch    5/67   train_loss = 1.202\n",
      "Epoch  85 Batch   25/67   train_loss = 1.138\n",
      "Epoch  85 Batch   45/67   train_loss = 1.089\n",
      "Epoch  85 Batch   65/67   train_loss = 1.029\n",
      "Epoch  86 Batch   18/67   train_loss = 1.074\n",
      "Epoch  86 Batch   38/67   train_loss = 0.957\n",
      "Epoch  86 Batch   58/67   train_loss = 1.038\n",
      "Epoch  87 Batch   11/67   train_loss = 0.972\n",
      "Epoch  87 Batch   31/67   train_loss = 1.132\n",
      "Epoch  87 Batch   51/67   train_loss = 0.996\n",
      "Epoch  88 Batch    4/67   train_loss = 0.949\n",
      "Epoch  88 Batch   24/67   train_loss = 1.194\n",
      "Epoch  88 Batch   44/67   train_loss = 0.929\n",
      "Epoch  88 Batch   64/67   train_loss = 1.071\n",
      "Epoch  89 Batch   17/67   train_loss = 1.064\n",
      "Epoch  89 Batch   37/67   train_loss = 0.971\n",
      "Epoch  89 Batch   57/67   train_loss = 0.985\n",
      "Epoch  90 Batch   10/67   train_loss = 0.915\n",
      "Epoch  90 Batch   30/67   train_loss = 0.966\n",
      "Epoch  90 Batch   50/67   train_loss = 0.937\n",
      "Epoch  91 Batch    3/67   train_loss = 0.827\n",
      "Epoch  91 Batch   23/67   train_loss = 1.085\n",
      "Epoch  91 Batch   43/67   train_loss = 0.819\n",
      "Epoch  91 Batch   63/67   train_loss = 0.899\n",
      "Epoch  92 Batch   16/67   train_loss = 0.893\n",
      "Epoch  92 Batch   36/67   train_loss = 0.834\n",
      "Epoch  92 Batch   56/67   train_loss = 0.772\n",
      "Epoch  93 Batch    9/67   train_loss = 0.893\n",
      "Epoch  93 Batch   29/67   train_loss = 0.922\n",
      "Epoch  93 Batch   49/67   train_loss = 0.777\n",
      "Epoch  94 Batch    2/67   train_loss = 0.918\n",
      "Epoch  94 Batch   22/67   train_loss = 0.859\n",
      "Epoch  94 Batch   42/67   train_loss = 0.840\n",
      "Epoch  94 Batch   62/67   train_loss = 0.838\n",
      "Epoch  95 Batch   15/67   train_loss = 0.967\n",
      "Epoch  95 Batch   35/67   train_loss = 0.931\n",
      "Epoch  95 Batch   55/67   train_loss = 0.827\n",
      "Epoch  96 Batch    8/67   train_loss = 0.813\n",
      "Epoch  96 Batch   28/67   train_loss = 0.873\n",
      "Epoch  96 Batch   48/67   train_loss = 0.743\n",
      "Epoch  97 Batch    1/67   train_loss = 0.883\n",
      "Epoch  97 Batch   21/67   train_loss = 0.884\n",
      "Epoch  97 Batch   41/67   train_loss = 0.769\n",
      "Epoch  97 Batch   61/67   train_loss = 0.817\n",
      "Epoch  98 Batch   14/67   train_loss = 0.768\n",
      "Epoch  98 Batch   34/67   train_loss = 0.749\n",
      "Epoch  98 Batch   54/67   train_loss = 0.800\n",
      "Epoch  99 Batch    7/67   train_loss = 0.904\n",
      "Epoch  99 Batch   27/67   train_loss = 0.916\n",
      "Epoch  99 Batch   47/67   train_loss = 0.791\n",
      "Epoch 100 Batch    0/67   train_loss = 0.827\n",
      "Epoch 100 Batch   20/67   train_loss = 0.679\n",
      "Epoch 100 Batch   40/67   train_loss = 0.787\n",
      "Epoch 100 Batch   60/67   train_loss = 0.758\n",
      "Epoch 101 Batch   13/67   train_loss = 0.749\n",
      "Epoch 101 Batch   33/67   train_loss = 0.762\n",
      "Epoch 101 Batch   53/67   train_loss = 0.649\n",
      "Epoch 102 Batch    6/67   train_loss = 0.846\n",
      "Epoch 102 Batch   26/67   train_loss = 0.786\n",
      "Epoch 102 Batch   46/67   train_loss = 0.788\n",
      "Epoch 102 Batch   66/67   train_loss = 0.827\n",
      "Epoch 103 Batch   19/67   train_loss = 0.776\n",
      "Epoch 103 Batch   39/67   train_loss = 0.721\n",
      "Epoch 103 Batch   59/67   train_loss = 0.709\n",
      "Epoch 104 Batch   12/67   train_loss = 0.749\n",
      "Epoch 104 Batch   32/67   train_loss = 0.730\n",
      "Epoch 104 Batch   52/67   train_loss = 0.676\n",
      "Epoch 105 Batch    5/67   train_loss = 0.853\n",
      "Epoch 105 Batch   25/67   train_loss = 0.764\n",
      "Epoch 105 Batch   45/67   train_loss = 0.797\n",
      "Epoch 105 Batch   65/67   train_loss = 0.739\n",
      "Epoch 106 Batch   18/67   train_loss = 0.771\n",
      "Epoch 106 Batch   38/67   train_loss = 0.667\n",
      "Epoch 106 Batch   58/67   train_loss = 0.723\n",
      "Epoch 107 Batch   11/67   train_loss = 0.700\n",
      "Epoch 107 Batch   31/67   train_loss = 0.797\n",
      "Epoch 107 Batch   51/67   train_loss = 0.729\n",
      "Epoch 108 Batch    4/67   train_loss = 0.629\n",
      "Epoch 108 Batch   24/67   train_loss = 0.796\n",
      "Epoch 108 Batch   44/67   train_loss = 0.688\n",
      "Epoch 108 Batch   64/67   train_loss = 0.750\n",
      "Epoch 109 Batch   17/67   train_loss = 0.743\n",
      "Epoch 109 Batch   37/67   train_loss = 0.690\n",
      "Epoch 109 Batch   57/67   train_loss = 0.691\n",
      "Epoch 110 Batch   10/67   train_loss = 0.643\n",
      "Epoch 110 Batch   30/67   train_loss = 0.673\n",
      "Epoch 110 Batch   50/67   train_loss = 0.689\n",
      "Epoch 111 Batch    3/67   train_loss = 0.579\n",
      "Epoch 111 Batch   23/67   train_loss = 0.780\n",
      "Epoch 111 Batch   43/67   train_loss = 0.546\n",
      "Epoch 111 Batch   63/67   train_loss = 0.627\n",
      "Epoch 112 Batch   16/67   train_loss = 0.608\n",
      "Epoch 112 Batch   36/67   train_loss = 0.605\n",
      "Epoch 112 Batch   56/67   train_loss = 0.528\n",
      "Epoch 113 Batch    9/67   train_loss = 0.664\n",
      "Epoch 113 Batch   29/67   train_loss = 0.690\n",
      "Epoch 113 Batch   49/67   train_loss = 0.557\n",
      "Epoch 114 Batch    2/67   train_loss = 0.664\n",
      "Epoch 114 Batch   22/67   train_loss = 0.632\n",
      "Epoch 114 Batch   42/67   train_loss = 0.619\n",
      "Epoch 114 Batch   62/67   train_loss = 0.548\n",
      "Epoch 115 Batch   15/67   train_loss = 0.656\n",
      "Epoch 115 Batch   35/67   train_loss = 0.626\n",
      "Epoch 115 Batch   55/67   train_loss = 0.544\n",
      "Epoch 116 Batch    8/67   train_loss = 0.575\n",
      "Epoch 116 Batch   28/67   train_loss = 0.599\n",
      "Epoch 116 Batch   48/67   train_loss = 0.526\n",
      "Epoch 117 Batch    1/67   train_loss = 0.630\n",
      "Epoch 117 Batch   21/67   train_loss = 0.629\n",
      "Epoch 117 Batch   41/67   train_loss = 0.558\n",
      "Epoch 117 Batch   61/67   train_loss = 0.594\n",
      "Epoch 118 Batch   14/67   train_loss = 0.554\n",
      "Epoch 118 Batch   34/67   train_loss = 0.532\n",
      "Epoch 118 Batch   54/67   train_loss = 0.596\n",
      "Epoch 119 Batch    7/67   train_loss = 0.642\n",
      "Epoch 119 Batch   27/67   train_loss = 0.661\n",
      "Epoch 119 Batch   47/67   train_loss = 0.592\n",
      "Epoch 120 Batch    0/67   train_loss = 0.639\n",
      "Epoch 120 Batch   20/67   train_loss = 0.480\n",
      "Epoch 120 Batch   40/67   train_loss = 0.577\n",
      "Epoch 120 Batch   60/67   train_loss = 0.556\n",
      "Epoch 121 Batch   13/67   train_loss = 0.537\n",
      "Epoch 121 Batch   33/67   train_loss = 0.532\n",
      "Epoch 121 Batch   53/67   train_loss = 0.454\n",
      "Epoch 122 Batch    6/67   train_loss = 0.599\n",
      "Epoch 122 Batch   26/67   train_loss = 0.533\n",
      "Epoch 122 Batch   46/67   train_loss = 0.569\n",
      "Epoch 122 Batch   66/67   train_loss = 0.563\n",
      "Epoch 123 Batch   19/67   train_loss = 0.588\n",
      "Epoch 123 Batch   39/67   train_loss = 0.558\n",
      "Epoch 123 Batch   59/67   train_loss = 0.531\n",
      "Epoch 124 Batch   12/67   train_loss = 0.526\n",
      "Epoch 124 Batch   32/67   train_loss = 0.534\n",
      "Epoch 124 Batch   52/67   train_loss = 0.507\n",
      "Epoch 125 Batch    5/67   train_loss = 0.653\n",
      "Epoch 125 Batch   25/67   train_loss = 0.547\n",
      "Epoch 125 Batch   45/67   train_loss = 0.601\n",
      "Epoch 125 Batch   65/67   train_loss = 0.503\n",
      "Epoch 126 Batch   18/67   train_loss = 0.556\n",
      "Epoch 126 Batch   38/67   train_loss = 0.469\n",
      "Epoch 126 Batch   58/67   train_loss = 0.527\n",
      "Epoch 127 Batch   11/67   train_loss = 0.530\n",
      "Epoch 127 Batch   31/67   train_loss = 0.623\n",
      "Epoch 127 Batch   51/67   train_loss = 0.532\n",
      "Model Trained and Saved\n"
     ]
    }
   ],
   "source": [
    "\"\"\"\n",
    "DON'T MODIFY ANYTHING IN THIS CELL\n",
    "\"\"\"\n",
    "batches = get_batches(int_text, batch_size, seq_length)\n",
    "\n",
    "with tf.Session(graph=train_graph) as sess:\n",
    "    sess.run(tf.global_variables_initializer())\n",
    "\n",
    "    for epoch_i in range(num_epochs):\n",
    "        state = sess.run(initial_state, {input_text: batches[0][0]})\n",
    "\n",
    "        for batch_i, (x, y) in enumerate(batches):\n",
    "            feed = {\n",
    "                input_text: x,\n",
    "                targets: y,\n",
    "                initial_state: state,\n",
    "                lr: learning_rate}\n",
    "            train_loss, state, _ = sess.run([cost, final_state, train_op], feed)\n",
    "\n",
    "            # Show every <show_every_n_batches> batches\n",
    "            if (epoch_i * len(batches) + batch_i) % show_every_n_batches == 0:\n",
    "                print('Epoch {:>3} Batch {:>4}/{}   train_loss = {:.3f}'.format(\n",
    "                    epoch_i,\n",
    "                    batch_i,\n",
    "                    len(batches),\n",
    "                    train_loss))\n",
    "\n",
    "    # Save Model\n",
    "    saver = tf.train.Saver()\n",
    "    saver.save(sess, save_dir)\n",
    "    print('Model Trained and Saved')"
   ]
  },
  {
   "cell_type": "markdown",
   "metadata": {
    "deletable": true,
    "editable": true
   },
   "source": [
    "## Save Parameters\n",
    "Save `seq_length` and `save_dir` for generating a new TV script."
   ]
  },
  {
   "cell_type": "code",
   "execution_count": 17,
   "metadata": {
    "collapsed": false,
    "deletable": true,
    "editable": true
   },
   "outputs": [],
   "source": [
    "\"\"\"\n",
    "DON'T MODIFY ANYTHING IN THIS CELL\n",
    "\"\"\"\n",
    "# Save parameters for checkpoint\n",
    "helper.save_params((seq_length, save_dir))"
   ]
  },
  {
   "cell_type": "markdown",
   "metadata": {
    "deletable": true,
    "editable": true
   },
   "source": [
    "# Checkpoint"
   ]
  },
  {
   "cell_type": "code",
   "execution_count": 18,
   "metadata": {
    "collapsed": false,
    "deletable": true,
    "editable": true
   },
   "outputs": [],
   "source": [
    "\"\"\"\n",
    "DON'T MODIFY ANYTHING IN THIS CELL\n",
    "\"\"\"\n",
    "import tensorflow as tf\n",
    "import numpy as np\n",
    "import helper\n",
    "import problem_unittests as tests\n",
    "\n",
    "_, vocab_to_int, int_to_vocab, token_dict = helper.load_preprocess()\n",
    "seq_length, load_dir = helper.load_params()"
   ]
  },
  {
   "cell_type": "markdown",
   "metadata": {
    "deletable": true,
    "editable": true
   },
   "source": [
    "## Implement Generate Functions\n",
    "### Get Tensors\n",
    "Get tensors from `loaded_graph` using the function [`get_tensor_by_name()`](https://www.tensorflow.org/api_docs/python/tf/Graph#get_tensor_by_name).  Get the tensors using the following names:\n",
    "- \"input:0\"\n",
    "- \"initial_state:0\"\n",
    "- \"final_state:0\"\n",
    "- \"probs:0\"\n",
    "\n",
    "Return the tensors in the following tuple `(InputTensor, InitialStateTensor, FinalStateTensor, ProbsTensor)` "
   ]
  },
  {
   "cell_type": "code",
   "execution_count": 19,
   "metadata": {
    "collapsed": false,
    "deletable": true,
    "editable": true
   },
   "outputs": [
    {
     "name": "stdout",
     "output_type": "stream",
     "text": [
      "Tests Passed\n"
     ]
    }
   ],
   "source": [
    "def get_tensors(loaded_graph):\n",
    "    \"\"\"\n",
    "    Get input, initial state, final state, and probabilities tensor from <loaded_graph>\n",
    "    :param loaded_graph: TensorFlow graph loaded from file\n",
    "    :return: Tuple (InputTensor, InitialStateTensor, FinalStateTensor, ProbsTensor)\n",
    "    \"\"\"\n",
    "    input_tensor = loaded_graph.get_tensor_by_name('input:0')\n",
    "    initial_state_tensor = loaded_graph.get_tensor_by_name('initial_state:0')\n",
    "    final_state_tensor = loaded_graph.get_tensor_by_name('final_state:0')\n",
    "    probs_tensor = loaded_graph.get_tensor_by_name('probs:0')\n",
    "    return input_tensor, initial_state_tensor, final_state_tensor, probs_tensor\n",
    "\n",
    "\n",
    "\"\"\"\n",
    "DON'T MODIFY ANYTHING IN THIS CELL THAT IS BELOW THIS LINE\n",
    "\"\"\"\n",
    "tests.test_get_tensors(get_tensors)"
   ]
  },
  {
   "cell_type": "markdown",
   "metadata": {
    "deletable": true,
    "editable": true
   },
   "source": [
    "### Choose Word\n",
    "Implement the `pick_word()` function to select the next word using `probabilities`."
   ]
  },
  {
   "cell_type": "code",
   "execution_count": 20,
   "metadata": {
    "collapsed": false,
    "deletable": true,
    "editable": true
   },
   "outputs": [
    {
     "name": "stdout",
     "output_type": "stream",
     "text": [
      "Tests Passed\n"
     ]
    }
   ],
   "source": [
    "def pick_word(probabilities, int_to_vocab):\n",
    "    \"\"\"\n",
    "    Pick the next word in the generated text\n",
    "    :param probabilities: Probabilites of the next word\n",
    "    :param int_to_vocab: Dictionary of word ids as the keys and words as the values\n",
    "    :return: String of the predicted word\n",
    "    \"\"\"    \n",
    "    return int_to_vocab[probabilities.argmax()]\n",
    "\n",
    "\n",
    "\"\"\"\n",
    "DON'T MODIFY ANYTHING IN THIS CELL THAT IS BELOW THIS LINE\n",
    "\"\"\"\n",
    "tests.test_pick_word(pick_word)"
   ]
  },
  {
   "cell_type": "markdown",
   "metadata": {
    "deletable": true,
    "editable": true
   },
   "source": [
    "## Generate TV Script\n",
    "This will generate the TV script for you.  Set `gen_length` to the length of TV script you want to generate."
   ]
  },
  {
   "cell_type": "code",
   "execution_count": 21,
   "metadata": {
    "collapsed": false,
    "deletable": true,
    "editable": true
   },
   "outputs": [
    {
     "name": "stdout",
     "output_type": "stream",
     "text": [
      "homer_simpson:(tipsy) man, this website makes talking drunk to my wife so much safer.(frink noise)\n",
      "lisa_simpson: i read it! just stick your problems.\n",
      "seymour_skinner: it's your tears to see her soon!\n",
      "moe_szyslak: oh my god! what are you doing? you're not so much. i lost your problem to the ripcord stuff!\n",
      "\n",
      "\n",
      "homer_simpson:(gasp) uh-huh...\n",
      "waylon_smithers: okay, i see you\" like your loafers light\") i know, i know what we do was?\n",
      "moe_szyslak:(can't-believe-how-bald-he-is noise) no man that's a little chick of the fan alibi, i always grow too?\n",
      "moe_szyslak: yeah, that's just a little more sensitivity around our heads all our local suit you some far man.\n",
      "moe_szyslak: yeah. c'mon, can you drive the bank and snatch that dough... cuddling, this fight is over!\n",
      "moe_szyslak: oh my god! santa brought me just what i asked? it's chief of that i ain't put with three children...\n",
      "homer_simpson:\n"
     ]
    }
   ],
   "source": [
    "gen_length = 200\n",
    "# homer_simpson, moe_szyslak, or Barney_Gumble\n",
    "prime_word = 'homer_simpson'\n",
    "\n",
    "\"\"\"\n",
    "DON'T MODIFY ANYTHING IN THIS CELL THAT IS BELOW THIS LINE\n",
    "\"\"\"\n",
    "loaded_graph = tf.Graph()\n",
    "with tf.Session(graph=loaded_graph) as sess:\n",
    "    # Load saved model\n",
    "    loader = tf.train.import_meta_graph(load_dir + '.meta')\n",
    "    loader.restore(sess, load_dir)\n",
    "\n",
    "    # Get Tensors from loaded model\n",
    "    input_text, initial_state, final_state, probs = get_tensors(loaded_graph)\n",
    "\n",
    "    # Sentences generation setup\n",
    "    gen_sentences = [prime_word + ':']\n",
    "    prev_state = sess.run(initial_state, {input_text: np.array([[1]])})\n",
    "\n",
    "    # Generate sentences\n",
    "    for n in range(gen_length):\n",
    "        # Dynamic Input\n",
    "        dyn_input = [[vocab_to_int[word] for word in gen_sentences[-seq_length:]]]\n",
    "        dyn_seq_length = len(dyn_input[0])\n",
    "\n",
    "        # Get Prediction\n",
    "        probabilities, prev_state = sess.run(\n",
    "            [probs, final_state],\n",
    "            {input_text: dyn_input, initial_state: prev_state})\n",
    "        \n",
    "        pred_word = pick_word(probabilities[dyn_seq_length-1], int_to_vocab)\n",
    "\n",
    "        gen_sentences.append(pred_word)\n",
    "    \n",
    "    # Remove tokens\n",
    "    tv_script = ' '.join(gen_sentences)\n",
    "    for key, token in token_dict.items():\n",
    "        ending = ' ' if key in ['\\n', '(', '\"'] else ''\n",
    "        tv_script = tv_script.replace(' ' + token.lower(), key)\n",
    "    tv_script = tv_script.replace('\\n ', '\\n')\n",
    "    tv_script = tv_script.replace('( ', '(')\n",
    "        \n",
    "    print(tv_script)"
   ]
  },
  {
   "cell_type": "markdown",
   "metadata": {
    "deletable": true,
    "editable": true
   },
   "source": [
    "# The TV Script is Nonsensical\n",
    "It's ok if the TV script doesn't make any sense.  We trained on less than a megabyte of text.  In order to get good results, you'll have to use a smaller vocabulary or get more data.  Luckly there's more data!  As we mentioned in the begging of this project, this is a subset of [another dataset](https://www.kaggle.com/wcukierski/the-simpsons-by-the-data).  We didn't have you train on all the data, because that would take too long.  However, you are free to train your neural network on all the data.  After you complete the project, of course.\n",
    "# Submitting This Project\n",
    "When submitting this project, make sure to run all the cells before saving the notebook. Save the notebook file as \"dlnd_tv_script_generation.ipynb\" and save it as a HTML file under \"File\" -> \"Download as\". Include the \"helper.py\" and \"problem_unittests.py\" files in your submission."
   ]
  },
  {
   "cell_type": "code",
   "execution_count": null,
   "metadata": {
    "collapsed": true,
    "deletable": true,
    "editable": true
   },
   "outputs": [],
   "source": []
  }
 ],
 "metadata": {
  "kernelspec": {
   "display_name": "Python 3",
   "language": "python",
   "name": "python3"
  },
  "language_info": {
   "codemirror_mode": {
    "name": "ipython",
    "version": 3
   },
   "file_extension": ".py",
   "mimetype": "text/x-python",
   "name": "python",
   "nbconvert_exporter": "python",
   "pygments_lexer": "ipython3",
   "version": "3.6.4"
  }
 },
 "nbformat": 4,
 "nbformat_minor": 2
}
